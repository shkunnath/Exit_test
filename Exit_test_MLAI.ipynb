{
 "cells": [
  {
   "cell_type": "code",
   "execution_count": 1,
   "id": "cbb0d869-4069-4e52-b86d-548bc4ad03b9",
   "metadata": {},
   "outputs": [],
   "source": [
    "# Importing basic libraries\n",
    "import os\n",
    "os.environ['TF_CPP_MIN_LOG_LEVEL'] = '3'\n",
    "import tensorflow as tf\n",
    "import pandas as pd\n",
    "import numpy as np"
   ]
  },
  {
   "cell_type": "code",
   "execution_count": 2,
   "id": "a605390a-41bc-4f0c-9a96-d532d30eacab",
   "metadata": {},
   "outputs": [],
   "source": [
    "# Reading the dataset\n",
    "df = pd.read_csv('labeledTrainData.tsv', delimiter = '\\t')"
   ]
  },
  {
   "cell_type": "code",
   "execution_count": 3,
   "id": "15c6bbfe-9bfa-48a7-ace2-a60a99e6454f",
   "metadata": {},
   "outputs": [
    {
     "name": "stdout",
     "output_type": "stream",
     "text": [
      "<class 'pandas.core.frame.DataFrame'>\n",
      "RangeIndex: 25000 entries, 0 to 24999\n",
      "Data columns (total 3 columns):\n",
      " #   Column     Non-Null Count  Dtype \n",
      "---  ------     --------------  ----- \n",
      " 0   id         25000 non-null  object\n",
      " 1   sentiment  25000 non-null  int64 \n",
      " 2   review     25000 non-null  object\n",
      "dtypes: int64(1), object(2)\n",
      "memory usage: 586.1+ KB\n"
     ]
    }
   ],
   "source": [
    "df.info()"
   ]
  },
  {
   "cell_type": "code",
   "execution_count": 4,
   "id": "42da4c64-5c7b-40cd-afb5-c811899a0f18",
   "metadata": {},
   "outputs": [
    {
     "data": {
      "text/html": [
       "<div>\n",
       "<style scoped>\n",
       "    .dataframe tbody tr th:only-of-type {\n",
       "        vertical-align: middle;\n",
       "    }\n",
       "\n",
       "    .dataframe tbody tr th {\n",
       "        vertical-align: top;\n",
       "    }\n",
       "\n",
       "    .dataframe thead th {\n",
       "        text-align: right;\n",
       "    }\n",
       "</style>\n",
       "<table border=\"1\" class=\"dataframe\">\n",
       "  <thead>\n",
       "    <tr style=\"text-align: right;\">\n",
       "      <th></th>\n",
       "      <th>id</th>\n",
       "      <th>sentiment</th>\n",
       "      <th>review</th>\n",
       "    </tr>\n",
       "  </thead>\n",
       "  <tbody>\n",
       "    <tr>\n",
       "      <th>0</th>\n",
       "      <td>5814_8</td>\n",
       "      <td>1</td>\n",
       "      <td>With all this stuff going down at the moment w...</td>\n",
       "    </tr>\n",
       "    <tr>\n",
       "      <th>1</th>\n",
       "      <td>2381_9</td>\n",
       "      <td>1</td>\n",
       "      <td>\\The Classic War of the Worlds\\\" by Timothy Hi...</td>\n",
       "    </tr>\n",
       "    <tr>\n",
       "      <th>2</th>\n",
       "      <td>7759_3</td>\n",
       "      <td>0</td>\n",
       "      <td>The film starts with a manager (Nicholas Bell)...</td>\n",
       "    </tr>\n",
       "    <tr>\n",
       "      <th>3</th>\n",
       "      <td>3630_4</td>\n",
       "      <td>0</td>\n",
       "      <td>It must be assumed that those who praised this...</td>\n",
       "    </tr>\n",
       "    <tr>\n",
       "      <th>4</th>\n",
       "      <td>9495_8</td>\n",
       "      <td>1</td>\n",
       "      <td>Superbly trashy and wondrously unpretentious 8...</td>\n",
       "    </tr>\n",
       "  </tbody>\n",
       "</table>\n",
       "</div>"
      ],
      "text/plain": [
       "       id  sentiment                                             review\n",
       "0  5814_8          1  With all this stuff going down at the moment w...\n",
       "1  2381_9          1  \\The Classic War of the Worlds\\\" by Timothy Hi...\n",
       "2  7759_3          0  The film starts with a manager (Nicholas Bell)...\n",
       "3  3630_4          0  It must be assumed that those who praised this...\n",
       "4  9495_8          1  Superbly trashy and wondrously unpretentious 8..."
      ]
     },
     "execution_count": 4,
     "metadata": {},
     "output_type": "execute_result"
    }
   ],
   "source": [
    "df.head()"
   ]
  },
  {
   "cell_type": "code",
   "execution_count": 5,
   "id": "94cdb56f-b42b-407c-b3da-8bdac4d072bf",
   "metadata": {},
   "outputs": [],
   "source": [
    "# Split the data into train and test.\n",
    "from sklearn.model_selection import train_test_split\n",
    "train, test = train_test_split(df[['review','sentiment']], test_size=0.2, random_state=42, shuffle=True)"
   ]
  },
  {
   "cell_type": "code",
   "execution_count": 6,
   "id": "ad3ee810-3470-484d-9db6-7894ca12de93",
   "metadata": {},
   "outputs": [],
   "source": [
    "train.reset_index(inplace=True)\n",
    "test.reset_index(inplace=True)"
   ]
  },
  {
   "cell_type": "code",
   "execution_count": 7,
   "id": "1e199597-c723-4fa2-af37-022541ff444f",
   "metadata": {},
   "outputs": [],
   "source": [
    "# Basic Preprocessing\n",
    "import re\n",
    "def remove_hashtags(text):\n",
    "    cleaned_text = re.sub(r'#\\w+', '', text)\n",
    "    return cleaned_text\n",
    "\n",
    "def remove_urls(text):\n",
    "    url_pattern = re.compile(r'http?://\\S+|www\\.\\S+')\n",
    "    return url_pattern.sub(r'', text)\n",
    "    \n",
    "import string\n",
    "def remove_punc(text):\n",
    "    punc_free = ''.join([i for i in text if i not in string.punctuation])\n",
    "    return punc_free\n",
    "\n",
    "import nltk\n",
    "def tokenization(text):\n",
    "    words = nltk.word_tokenize(text)\n",
    "    return words\n",
    "\n",
    "stopwords = nltk.corpus.stopwords.words('english')\n",
    "def remove_stopwords(text):\n",
    "    output = [i for i in text if i not in stopwords]\n",
    "    return output\n",
    "\n",
    "from nltk.stem import WordNetLemmatizer\n",
    "wordnet_lem = WordNetLemmatizer()\n",
    "def lemm(text):\n",
    "    lemm_text = [wordnet_lem.lemmatize(word) for word in text]\n",
    "    return lemm_text"
   ]
  },
  {
   "cell_type": "code",
   "execution_count": 8,
   "id": "c28f75f1-bd9b-44fc-a7da-f86917a35aaa",
   "metadata": {},
   "outputs": [],
   "source": [
    "def preprocess(df_col):\n",
    "    corpus = []\n",
    "    for item in df_col:\n",
    "        new_item = remove_hashtags(item)\n",
    "        new_item = remove_urls(new_item)\n",
    "        new_item = remove_punc(item)\n",
    "        new_item = new_item.lower()\n",
    "        new_item = tokenization(new_item)\n",
    "        new_item = remove_stopwords(new_item)\n",
    "        new_item = lemm(new_item)\n",
    "        corpus.append(' '.join(str(x) for x in new_item))\n",
    "    return corpus"
   ]
  },
  {
   "cell_type": "code",
   "execution_count": 9,
   "id": "8bc1ca32-2e71-4d34-96cf-7a2ec964cd69",
   "metadata": {},
   "outputs": [],
   "source": [
    "corpus = preprocess(train['review'])"
   ]
  },
  {
   "cell_type": "markdown",
   "id": "3dacaddb-eab4-428d-bb1c-a2f765522192",
   "metadata": {},
   "source": [
    "USING TF-IDF"
   ]
  },
  {
   "cell_type": "code",
   "execution_count": 10,
   "id": "c54f74b5-d874-4c02-86c9-e62da9471c83",
   "metadata": {},
   "outputs": [],
   "source": [
    "# Using TF-IDF\n",
    "from sklearn.feature_extraction.text import TfidfVectorizer\n",
    "tfidf = TfidfVectorizer(ngram_range=(1,2))\n",
    "traindata = tfidf.fit_transform(corpus)"
   ]
  },
  {
   "cell_type": "code",
   "execution_count": 11,
   "id": "232c6ea9-be85-41a4-a27d-e7889e972566",
   "metadata": {},
   "outputs": [],
   "source": [
    "# Splitting the data into X and y\n",
    "X = traindata\n",
    "y = train['sentiment']"
   ]
  },
  {
   "cell_type": "code",
   "execution_count": 12,
   "id": "32baa1f3-404e-4549-b721-41c38fafa251",
   "metadata": {},
   "outputs": [],
   "source": [
    "from sklearn.ensemble import RandomForestClassifier\n",
    "from sklearn.metrics import accuracy_score"
   ]
  },
  {
   "cell_type": "code",
   "execution_count": 13,
   "id": "c3b54276-c4b4-4533-99a4-a5af3f6346b3",
   "metadata": {},
   "outputs": [],
   "source": [
    "tfidf_rf = RandomForestClassifier(max_depth = None, min_samples_leaf =1, min_samples_split = 5, n_estimators =100,n_jobs=-1)"
   ]
  },
  {
   "cell_type": "code",
   "execution_count": 14,
   "id": "d11dbea5-91d9-4dd8-89bf-95e450843055",
   "metadata": {},
   "outputs": [
    {
     "data": {
      "text/html": [
       "<style>#sk-container-id-1 {\n",
       "  /* Definition of color scheme common for light and dark mode */\n",
       "  --sklearn-color-text: black;\n",
       "  --sklearn-color-line: gray;\n",
       "  /* Definition of color scheme for unfitted estimators */\n",
       "  --sklearn-color-unfitted-level-0: #fff5e6;\n",
       "  --sklearn-color-unfitted-level-1: #f6e4d2;\n",
       "  --sklearn-color-unfitted-level-2: #ffe0b3;\n",
       "  --sklearn-color-unfitted-level-3: chocolate;\n",
       "  /* Definition of color scheme for fitted estimators */\n",
       "  --sklearn-color-fitted-level-0: #f0f8ff;\n",
       "  --sklearn-color-fitted-level-1: #d4ebff;\n",
       "  --sklearn-color-fitted-level-2: #b3dbfd;\n",
       "  --sklearn-color-fitted-level-3: cornflowerblue;\n",
       "\n",
       "  /* Specific color for light theme */\n",
       "  --sklearn-color-text-on-default-background: var(--sg-text-color, var(--theme-code-foreground, var(--jp-content-font-color1, black)));\n",
       "  --sklearn-color-background: var(--sg-background-color, var(--theme-background, var(--jp-layout-color0, white)));\n",
       "  --sklearn-color-border-box: var(--sg-text-color, var(--theme-code-foreground, var(--jp-content-font-color1, black)));\n",
       "  --sklearn-color-icon: #696969;\n",
       "\n",
       "  @media (prefers-color-scheme: dark) {\n",
       "    /* Redefinition of color scheme for dark theme */\n",
       "    --sklearn-color-text-on-default-background: var(--sg-text-color, var(--theme-code-foreground, var(--jp-content-font-color1, white)));\n",
       "    --sklearn-color-background: var(--sg-background-color, var(--theme-background, var(--jp-layout-color0, #111)));\n",
       "    --sklearn-color-border-box: var(--sg-text-color, var(--theme-code-foreground, var(--jp-content-font-color1, white)));\n",
       "    --sklearn-color-icon: #878787;\n",
       "  }\n",
       "}\n",
       "\n",
       "#sk-container-id-1 {\n",
       "  color: var(--sklearn-color-text);\n",
       "}\n",
       "\n",
       "#sk-container-id-1 pre {\n",
       "  padding: 0;\n",
       "}\n",
       "\n",
       "#sk-container-id-1 input.sk-hidden--visually {\n",
       "  border: 0;\n",
       "  clip: rect(1px 1px 1px 1px);\n",
       "  clip: rect(1px, 1px, 1px, 1px);\n",
       "  height: 1px;\n",
       "  margin: -1px;\n",
       "  overflow: hidden;\n",
       "  padding: 0;\n",
       "  position: absolute;\n",
       "  width: 1px;\n",
       "}\n",
       "\n",
       "#sk-container-id-1 div.sk-dashed-wrapped {\n",
       "  border: 1px dashed var(--sklearn-color-line);\n",
       "  margin: 0 0.4em 0.5em 0.4em;\n",
       "  box-sizing: border-box;\n",
       "  padding-bottom: 0.4em;\n",
       "  background-color: var(--sklearn-color-background);\n",
       "}\n",
       "\n",
       "#sk-container-id-1 div.sk-container {\n",
       "  /* jupyter's `normalize.less` sets `[hidden] { display: none; }`\n",
       "     but bootstrap.min.css set `[hidden] { display: none !important; }`\n",
       "     so we also need the `!important` here to be able to override the\n",
       "     default hidden behavior on the sphinx rendered scikit-learn.org.\n",
       "     See: https://github.com/scikit-learn/scikit-learn/issues/21755 */\n",
       "  display: inline-block !important;\n",
       "  position: relative;\n",
       "}\n",
       "\n",
       "#sk-container-id-1 div.sk-text-repr-fallback {\n",
       "  display: none;\n",
       "}\n",
       "\n",
       "div.sk-parallel-item,\n",
       "div.sk-serial,\n",
       "div.sk-item {\n",
       "  /* draw centered vertical line to link estimators */\n",
       "  background-image: linear-gradient(var(--sklearn-color-text-on-default-background), var(--sklearn-color-text-on-default-background));\n",
       "  background-size: 2px 100%;\n",
       "  background-repeat: no-repeat;\n",
       "  background-position: center center;\n",
       "}\n",
       "\n",
       "/* Parallel-specific style estimator block */\n",
       "\n",
       "#sk-container-id-1 div.sk-parallel-item::after {\n",
       "  content: \"\";\n",
       "  width: 100%;\n",
       "  border-bottom: 2px solid var(--sklearn-color-text-on-default-background);\n",
       "  flex-grow: 1;\n",
       "}\n",
       "\n",
       "#sk-container-id-1 div.sk-parallel {\n",
       "  display: flex;\n",
       "  align-items: stretch;\n",
       "  justify-content: center;\n",
       "  background-color: var(--sklearn-color-background);\n",
       "  position: relative;\n",
       "}\n",
       "\n",
       "#sk-container-id-1 div.sk-parallel-item {\n",
       "  display: flex;\n",
       "  flex-direction: column;\n",
       "}\n",
       "\n",
       "#sk-container-id-1 div.sk-parallel-item:first-child::after {\n",
       "  align-self: flex-end;\n",
       "  width: 50%;\n",
       "}\n",
       "\n",
       "#sk-container-id-1 div.sk-parallel-item:last-child::after {\n",
       "  align-self: flex-start;\n",
       "  width: 50%;\n",
       "}\n",
       "\n",
       "#sk-container-id-1 div.sk-parallel-item:only-child::after {\n",
       "  width: 0;\n",
       "}\n",
       "\n",
       "/* Serial-specific style estimator block */\n",
       "\n",
       "#sk-container-id-1 div.sk-serial {\n",
       "  display: flex;\n",
       "  flex-direction: column;\n",
       "  align-items: center;\n",
       "  background-color: var(--sklearn-color-background);\n",
       "  padding-right: 1em;\n",
       "  padding-left: 1em;\n",
       "}\n",
       "\n",
       "\n",
       "/* Toggleable style: style used for estimator/Pipeline/ColumnTransformer box that is\n",
       "clickable and can be expanded/collapsed.\n",
       "- Pipeline and ColumnTransformer use this feature and define the default style\n",
       "- Estimators will overwrite some part of the style using the `sk-estimator` class\n",
       "*/\n",
       "\n",
       "/* Pipeline and ColumnTransformer style (default) */\n",
       "\n",
       "#sk-container-id-1 div.sk-toggleable {\n",
       "  /* Default theme specific background. It is overwritten whether we have a\n",
       "  specific estimator or a Pipeline/ColumnTransformer */\n",
       "  background-color: var(--sklearn-color-background);\n",
       "}\n",
       "\n",
       "/* Toggleable label */\n",
       "#sk-container-id-1 label.sk-toggleable__label {\n",
       "  cursor: pointer;\n",
       "  display: block;\n",
       "  width: 100%;\n",
       "  margin-bottom: 0;\n",
       "  padding: 0.5em;\n",
       "  box-sizing: border-box;\n",
       "  text-align: center;\n",
       "}\n",
       "\n",
       "#sk-container-id-1 label.sk-toggleable__label-arrow:before {\n",
       "  /* Arrow on the left of the label */\n",
       "  content: \"▸\";\n",
       "  float: left;\n",
       "  margin-right: 0.25em;\n",
       "  color: var(--sklearn-color-icon);\n",
       "}\n",
       "\n",
       "#sk-container-id-1 label.sk-toggleable__label-arrow:hover:before {\n",
       "  color: var(--sklearn-color-text);\n",
       "}\n",
       "\n",
       "/* Toggleable content - dropdown */\n",
       "\n",
       "#sk-container-id-1 div.sk-toggleable__content {\n",
       "  max-height: 0;\n",
       "  max-width: 0;\n",
       "  overflow: hidden;\n",
       "  text-align: left;\n",
       "  /* unfitted */\n",
       "  background-color: var(--sklearn-color-unfitted-level-0);\n",
       "}\n",
       "\n",
       "#sk-container-id-1 div.sk-toggleable__content.fitted {\n",
       "  /* fitted */\n",
       "  background-color: var(--sklearn-color-fitted-level-0);\n",
       "}\n",
       "\n",
       "#sk-container-id-1 div.sk-toggleable__content pre {\n",
       "  margin: 0.2em;\n",
       "  border-radius: 0.25em;\n",
       "  color: var(--sklearn-color-text);\n",
       "  /* unfitted */\n",
       "  background-color: var(--sklearn-color-unfitted-level-0);\n",
       "}\n",
       "\n",
       "#sk-container-id-1 div.sk-toggleable__content.fitted pre {\n",
       "  /* unfitted */\n",
       "  background-color: var(--sklearn-color-fitted-level-0);\n",
       "}\n",
       "\n",
       "#sk-container-id-1 input.sk-toggleable__control:checked~div.sk-toggleable__content {\n",
       "  /* Expand drop-down */\n",
       "  max-height: 200px;\n",
       "  max-width: 100%;\n",
       "  overflow: auto;\n",
       "}\n",
       "\n",
       "#sk-container-id-1 input.sk-toggleable__control:checked~label.sk-toggleable__label-arrow:before {\n",
       "  content: \"▾\";\n",
       "}\n",
       "\n",
       "/* Pipeline/ColumnTransformer-specific style */\n",
       "\n",
       "#sk-container-id-1 div.sk-label input.sk-toggleable__control:checked~label.sk-toggleable__label {\n",
       "  color: var(--sklearn-color-text);\n",
       "  background-color: var(--sklearn-color-unfitted-level-2);\n",
       "}\n",
       "\n",
       "#sk-container-id-1 div.sk-label.fitted input.sk-toggleable__control:checked~label.sk-toggleable__label {\n",
       "  background-color: var(--sklearn-color-fitted-level-2);\n",
       "}\n",
       "\n",
       "/* Estimator-specific style */\n",
       "\n",
       "/* Colorize estimator box */\n",
       "#sk-container-id-1 div.sk-estimator input.sk-toggleable__control:checked~label.sk-toggleable__label {\n",
       "  /* unfitted */\n",
       "  background-color: var(--sklearn-color-unfitted-level-2);\n",
       "}\n",
       "\n",
       "#sk-container-id-1 div.sk-estimator.fitted input.sk-toggleable__control:checked~label.sk-toggleable__label {\n",
       "  /* fitted */\n",
       "  background-color: var(--sklearn-color-fitted-level-2);\n",
       "}\n",
       "\n",
       "#sk-container-id-1 div.sk-label label.sk-toggleable__label,\n",
       "#sk-container-id-1 div.sk-label label {\n",
       "  /* The background is the default theme color */\n",
       "  color: var(--sklearn-color-text-on-default-background);\n",
       "}\n",
       "\n",
       "/* On hover, darken the color of the background */\n",
       "#sk-container-id-1 div.sk-label:hover label.sk-toggleable__label {\n",
       "  color: var(--sklearn-color-text);\n",
       "  background-color: var(--sklearn-color-unfitted-level-2);\n",
       "}\n",
       "\n",
       "/* Label box, darken color on hover, fitted */\n",
       "#sk-container-id-1 div.sk-label.fitted:hover label.sk-toggleable__label.fitted {\n",
       "  color: var(--sklearn-color-text);\n",
       "  background-color: var(--sklearn-color-fitted-level-2);\n",
       "}\n",
       "\n",
       "/* Estimator label */\n",
       "\n",
       "#sk-container-id-1 div.sk-label label {\n",
       "  font-family: monospace;\n",
       "  font-weight: bold;\n",
       "  display: inline-block;\n",
       "  line-height: 1.2em;\n",
       "}\n",
       "\n",
       "#sk-container-id-1 div.sk-label-container {\n",
       "  text-align: center;\n",
       "}\n",
       "\n",
       "/* Estimator-specific */\n",
       "#sk-container-id-1 div.sk-estimator {\n",
       "  font-family: monospace;\n",
       "  border: 1px dotted var(--sklearn-color-border-box);\n",
       "  border-radius: 0.25em;\n",
       "  box-sizing: border-box;\n",
       "  margin-bottom: 0.5em;\n",
       "  /* unfitted */\n",
       "  background-color: var(--sklearn-color-unfitted-level-0);\n",
       "}\n",
       "\n",
       "#sk-container-id-1 div.sk-estimator.fitted {\n",
       "  /* fitted */\n",
       "  background-color: var(--sklearn-color-fitted-level-0);\n",
       "}\n",
       "\n",
       "/* on hover */\n",
       "#sk-container-id-1 div.sk-estimator:hover {\n",
       "  /* unfitted */\n",
       "  background-color: var(--sklearn-color-unfitted-level-2);\n",
       "}\n",
       "\n",
       "#sk-container-id-1 div.sk-estimator.fitted:hover {\n",
       "  /* fitted */\n",
       "  background-color: var(--sklearn-color-fitted-level-2);\n",
       "}\n",
       "\n",
       "/* Specification for estimator info (e.g. \"i\" and \"?\") */\n",
       "\n",
       "/* Common style for \"i\" and \"?\" */\n",
       "\n",
       ".sk-estimator-doc-link,\n",
       "a:link.sk-estimator-doc-link,\n",
       "a:visited.sk-estimator-doc-link {\n",
       "  float: right;\n",
       "  font-size: smaller;\n",
       "  line-height: 1em;\n",
       "  font-family: monospace;\n",
       "  background-color: var(--sklearn-color-background);\n",
       "  border-radius: 1em;\n",
       "  height: 1em;\n",
       "  width: 1em;\n",
       "  text-decoration: none !important;\n",
       "  margin-left: 1ex;\n",
       "  /* unfitted */\n",
       "  border: var(--sklearn-color-unfitted-level-1) 1pt solid;\n",
       "  color: var(--sklearn-color-unfitted-level-1);\n",
       "}\n",
       "\n",
       ".sk-estimator-doc-link.fitted,\n",
       "a:link.sk-estimator-doc-link.fitted,\n",
       "a:visited.sk-estimator-doc-link.fitted {\n",
       "  /* fitted */\n",
       "  border: var(--sklearn-color-fitted-level-1) 1pt solid;\n",
       "  color: var(--sklearn-color-fitted-level-1);\n",
       "}\n",
       "\n",
       "/* On hover */\n",
       "div.sk-estimator:hover .sk-estimator-doc-link:hover,\n",
       ".sk-estimator-doc-link:hover,\n",
       "div.sk-label-container:hover .sk-estimator-doc-link:hover,\n",
       ".sk-estimator-doc-link:hover {\n",
       "  /* unfitted */\n",
       "  background-color: var(--sklearn-color-unfitted-level-3);\n",
       "  color: var(--sklearn-color-background);\n",
       "  text-decoration: none;\n",
       "}\n",
       "\n",
       "div.sk-estimator.fitted:hover .sk-estimator-doc-link.fitted:hover,\n",
       ".sk-estimator-doc-link.fitted:hover,\n",
       "div.sk-label-container:hover .sk-estimator-doc-link.fitted:hover,\n",
       ".sk-estimator-doc-link.fitted:hover {\n",
       "  /* fitted */\n",
       "  background-color: var(--sklearn-color-fitted-level-3);\n",
       "  color: var(--sklearn-color-background);\n",
       "  text-decoration: none;\n",
       "}\n",
       "\n",
       "/* Span, style for the box shown on hovering the info icon */\n",
       ".sk-estimator-doc-link span {\n",
       "  display: none;\n",
       "  z-index: 9999;\n",
       "  position: relative;\n",
       "  font-weight: normal;\n",
       "  right: .2ex;\n",
       "  padding: .5ex;\n",
       "  margin: .5ex;\n",
       "  width: min-content;\n",
       "  min-width: 20ex;\n",
       "  max-width: 50ex;\n",
       "  color: var(--sklearn-color-text);\n",
       "  box-shadow: 2pt 2pt 4pt #999;\n",
       "  /* unfitted */\n",
       "  background: var(--sklearn-color-unfitted-level-0);\n",
       "  border: .5pt solid var(--sklearn-color-unfitted-level-3);\n",
       "}\n",
       "\n",
       ".sk-estimator-doc-link.fitted span {\n",
       "  /* fitted */\n",
       "  background: var(--sklearn-color-fitted-level-0);\n",
       "  border: var(--sklearn-color-fitted-level-3);\n",
       "}\n",
       "\n",
       ".sk-estimator-doc-link:hover span {\n",
       "  display: block;\n",
       "}\n",
       "\n",
       "/* \"?\"-specific style due to the `<a>` HTML tag */\n",
       "\n",
       "#sk-container-id-1 a.estimator_doc_link {\n",
       "  float: right;\n",
       "  font-size: 1rem;\n",
       "  line-height: 1em;\n",
       "  font-family: monospace;\n",
       "  background-color: var(--sklearn-color-background);\n",
       "  border-radius: 1rem;\n",
       "  height: 1rem;\n",
       "  width: 1rem;\n",
       "  text-decoration: none;\n",
       "  /* unfitted */\n",
       "  color: var(--sklearn-color-unfitted-level-1);\n",
       "  border: var(--sklearn-color-unfitted-level-1) 1pt solid;\n",
       "}\n",
       "\n",
       "#sk-container-id-1 a.estimator_doc_link.fitted {\n",
       "  /* fitted */\n",
       "  border: var(--sklearn-color-fitted-level-1) 1pt solid;\n",
       "  color: var(--sklearn-color-fitted-level-1);\n",
       "}\n",
       "\n",
       "/* On hover */\n",
       "#sk-container-id-1 a.estimator_doc_link:hover {\n",
       "  /* unfitted */\n",
       "  background-color: var(--sklearn-color-unfitted-level-3);\n",
       "  color: var(--sklearn-color-background);\n",
       "  text-decoration: none;\n",
       "}\n",
       "\n",
       "#sk-container-id-1 a.estimator_doc_link.fitted:hover {\n",
       "  /* fitted */\n",
       "  background-color: var(--sklearn-color-fitted-level-3);\n",
       "}\n",
       "</style><div id=\"sk-container-id-1\" class=\"sk-top-container\"><div class=\"sk-text-repr-fallback\"><pre>RandomForestClassifier(min_samples_split=5, n_jobs=-1)</pre><b>In a Jupyter environment, please rerun this cell to show the HTML representation or trust the notebook. <br />On GitHub, the HTML representation is unable to render, please try loading this page with nbviewer.org.</b></div><div class=\"sk-container\" hidden><div class=\"sk-item\"><div class=\"sk-estimator fitted sk-toggleable\"><input class=\"sk-toggleable__control sk-hidden--visually\" id=\"sk-estimator-id-1\" type=\"checkbox\" checked><label for=\"sk-estimator-id-1\" class=\"sk-toggleable__label fitted sk-toggleable__label-arrow fitted\">&nbsp;&nbsp;RandomForestClassifier<a class=\"sk-estimator-doc-link fitted\" rel=\"noreferrer\" target=\"_blank\" href=\"https://scikit-learn.org/1.4/modules/generated/sklearn.ensemble.RandomForestClassifier.html\">?<span>Documentation for RandomForestClassifier</span></a><span class=\"sk-estimator-doc-link fitted\">i<span>Fitted</span></span></label><div class=\"sk-toggleable__content fitted\"><pre>RandomForestClassifier(min_samples_split=5, n_jobs=-1)</pre></div> </div></div></div></div>"
      ],
      "text/plain": [
       "RandomForestClassifier(min_samples_split=5, n_jobs=-1)"
      ]
     },
     "execution_count": 14,
     "metadata": {},
     "output_type": "execute_result"
    }
   ],
   "source": [
    "tfidf_rf.fit(X,y)"
   ]
  },
  {
   "cell_type": "code",
   "execution_count": 15,
   "id": "7efd0a09-2040-4f7a-8b6c-99f12a134ee8",
   "metadata": {},
   "outputs": [],
   "source": [
    "# Preprocessing the test data.\n",
    "test_corpus = preprocess(test['review'])"
   ]
  },
  {
   "cell_type": "code",
   "execution_count": 16,
   "id": "b832f0c1-310a-4c8a-be6f-b113263d49ec",
   "metadata": {},
   "outputs": [],
   "source": [
    "test_data = tfidf.transform(test_corpus)"
   ]
  },
  {
   "cell_type": "code",
   "execution_count": 17,
   "id": "fea0eef9-7495-43a2-b83f-329fd5c763ed",
   "metadata": {},
   "outputs": [],
   "source": [
    "test_label = test['sentiment']"
   ]
  },
  {
   "cell_type": "code",
   "execution_count": 18,
   "id": "73f4ddb2-a42a-432b-81c1-3b3368cca5a9",
   "metadata": {},
   "outputs": [],
   "source": [
    "predictions = tfidf_rf.predict(test_data)"
   ]
  },
  {
   "cell_type": "code",
   "execution_count": 19,
   "id": "7261a6a3-c232-422c-a2e4-c95260d52036",
   "metadata": {},
   "outputs": [
    {
     "name": "stdout",
     "output_type": "stream",
     "text": [
      "The accuracy is for Random Forest:   85.84\n"
     ]
    }
   ],
   "source": [
    "# Prediction with test data.\n",
    "rf_accuracy = accuracy_score(test_label,predictions)\n",
    "print(\"The accuracy is for Random Forest:  \",rf_accuracy*100)"
   ]
  },
  {
   "cell_type": "markdown",
   "id": "0623def1-71a5-43d4-a56e-632330b46e6b",
   "metadata": {},
   "source": [
    "Using Gensim pretrained embeddings."
   ]
  },
  {
   "cell_type": "code",
   "execution_count": 20,
   "id": "e593e043-ebcc-4267-8209-d2a46e027743",
   "metadata": {},
   "outputs": [],
   "source": [
    "df1 = pd.read_csv('labeledTrainData.tsv', delimiter = '\\t')"
   ]
  },
  {
   "cell_type": "code",
   "execution_count": 21,
   "id": "f10d4741-a43a-42a0-a823-1ee94e5be79f",
   "metadata": {},
   "outputs": [],
   "source": [
    "# Basic Preprocessing\n",
    "import re\n",
    "def remove_hashtags_mentions(text):\n",
    "    cleaned_text = re.sub(r'#\\w+', '', text)\n",
    "    cleaned_text = re.sub(r'@[\\w]*', '', cleaned_text)\n",
    "\n",
    "    return cleaned_text\n",
    "\n",
    "def remove_urls(text):\n",
    "    url_pattern = re.compile(r'http?://\\S+|www\\.\\S+')\n",
    "    return url_pattern.sub(r'', text)\n",
    "    \n",
    "import string\n",
    "def remove_punc(text):\n",
    "    punc_free = ''.join([i for i in text if i not in string.punctuation])\n",
    "    return punc_free\n",
    "\n",
    "import nltk\n",
    "def tokenization(text):\n",
    "    words = nltk.word_tokenize(text)\n",
    "    return words\n",
    "\n",
    "stopwords = nltk.corpus.stopwords.words('english')\n",
    "def remove_stopwords(text):\n",
    "    output = [i for i in text if i not in stopwords]\n",
    "    return output\n",
    "\n",
    "from nltk.stem import WordNetLemmatizer\n",
    "wordnet_lem = WordNetLemmatizer()\n",
    "def lemm(text):\n",
    "    lemm_text = [wordnet_lem.lemmatize(word) for word in text]\n",
    "    return lemm_text"
   ]
  },
  {
   "cell_type": "code",
   "execution_count": 22,
   "id": "51931293-1616-42ed-ab07-a72b7660b228",
   "metadata": {},
   "outputs": [],
   "source": [
    "def preprocess(df_col):\n",
    "    corpus = []\n",
    "    for item in df_col:\n",
    "        new_item = remove_hashtags_mentions(item)\n",
    "        new_item = remove_urls(new_item)\n",
    "        new_item = remove_punc(new_item)\n",
    "        new_item = new_item.lower()\n",
    "        new_item = tokenization(new_item)\n",
    "        new_item = remove_stopwords(new_item)\n",
    "        new_item = lemm(new_item)\n",
    "        corpus.append(' '.join(str(x) for x in new_item))\n",
    "    return corpus"
   ]
  },
  {
   "cell_type": "code",
   "execution_count": 23,
   "id": "d8136193-8f5a-4a8b-a457-39f4c176ea19",
   "metadata": {},
   "outputs": [],
   "source": [
    "corpus = preprocess(df1['review'])"
   ]
  },
  {
   "cell_type": "code",
   "execution_count": 24,
   "id": "59c27367-b08c-4f2b-9e24-56a3f1d6291f",
   "metadata": {},
   "outputs": [],
   "source": [
    "import gensim.downloader\n",
    "word_embeddings = gensim.downloader.load('glove-wiki-gigaword-100')"
   ]
  },
  {
   "cell_type": "code",
   "execution_count": 25,
   "id": "9c803c93-c335-48d0-882b-89d9827a8bff",
   "metadata": {},
   "outputs": [],
   "source": [
    "from tensorflow.keras.preprocessing.text import Tokenizer\n",
    "tokenizer = Tokenizer()\n",
    "tokenizer.fit_on_texts(corpus)"
   ]
  },
  {
   "cell_type": "code",
   "execution_count": 26,
   "id": "6e854ad6-ef6f-4248-8fb8-6c0ef7902feb",
   "metadata": {},
   "outputs": [],
   "source": [
    "# Convert text to sequences\n",
    "sequences = tokenizer.texts_to_sequences(corpus)"
   ]
  },
  {
   "cell_type": "code",
   "execution_count": 27,
   "id": "e24fa2b3-57e6-4116-9ada-2567f9b16f9d",
   "metadata": {},
   "outputs": [],
   "source": [
    "from tensorflow.keras.preprocessing.sequence import pad_sequences"
   ]
  },
  {
   "cell_type": "code",
   "execution_count": 28,
   "id": "a9ef52d3-104d-466d-b873-0c7e2ced7453",
   "metadata": {},
   "outputs": [],
   "source": [
    "# Pad sequences to a fixed length\n",
    "max_sequence_length = 20\n",
    "padded_sequences = pad_sequences(sequences, maxlen=max_sequence_length, padding='post')"
   ]
  },
  {
   "cell_type": "code",
   "execution_count": 29,
   "id": "0e958b80-790a-4016-af87-11ef0421ff04",
   "metadata": {},
   "outputs": [],
   "source": [
    "# Create an embedding matrix\n",
    "vocab_size = len(tokenizer.word_index) + 1\n",
    "embedding_dim = 100"
   ]
  },
  {
   "cell_type": "code",
   "execution_count": 30,
   "id": "a844fdcc-236e-4a2c-a8d6-959111621e7b",
   "metadata": {},
   "outputs": [],
   "source": [
    "import numpy as np\n",
    "embedding_matrix = np.zeros((vocab_size, embedding_dim))"
   ]
  },
  {
   "cell_type": "code",
   "execution_count": 31,
   "id": "fe183590-4fda-41e6-beaf-62e142c4bad3",
   "metadata": {},
   "outputs": [],
   "source": [
    "for word, i in tokenizer.word_index.items():\n",
    "    if word in word_embeddings:\n",
    "        embedding_matrix[i] = word_embeddings[word]"
   ]
  },
  {
   "cell_type": "markdown",
   "id": "f841b3b4-93aa-47f6-901c-19ca1de9a423",
   "metadata": {},
   "source": [
    "Model using LSTM"
   ]
  },
  {
   "cell_type": "code",
   "execution_count": 32,
   "id": "79e99dc1-7346-4ee5-a34d-05bdfc4d5a07",
   "metadata": {},
   "outputs": [],
   "source": [
    "from tensorflow.keras.layers import Embedding\n",
    "# Build the Embedding layer using the embedding matrix\n",
    "embedding_layer = Embedding(\n",
    "    input_dim=vocab_size,\n",
    "    output_dim=embedding_dim,\n",
    "    weights=[embedding_matrix],\n",
    "    input_length=max_sequence_length,\n",
    "    trainable=False\n",
    ")"
   ]
  },
  {
   "cell_type": "code",
   "execution_count": 33,
   "id": "af531cdf-8226-4044-a715-aa77ddceb472",
   "metadata": {},
   "outputs": [],
   "source": [
    "# Splitting the data into train and test\n",
    "from sklearn.model_selection import train_test_split\n",
    "X_train, X_test, y_train, y_test = train_test_split(padded_sequences, df1['sentiment'] , test_size=0.2, random_state=42)"
   ]
  },
  {
   "cell_type": "code",
   "execution_count": 34,
   "id": "731b111d-2917-43eb-aa65-fcab323c599b",
   "metadata": {},
   "outputs": [],
   "source": [
    "# Converting train and test to tensors\n",
    "train_dataset = tf.data.Dataset.from_tensor_slices((X_train, y_train)).batch(128)\n",
    "test_dataset = tf.data.Dataset.from_tensor_slices((X_test, y_test)).batch(128)"
   ]
  },
  {
   "cell_type": "code",
   "execution_count": 35,
   "id": "1f7bed17-757e-47e5-b706-25384c27fd7a",
   "metadata": {},
   "outputs": [
    {
     "name": "stdout",
     "output_type": "stream",
     "text": [
      "Model: \"sequential\"\n",
      "_________________________________________________________________\n",
      " Layer (type)                Output Shape              Param #   \n",
      "=================================================================\n",
      " embedding (Embedding)       (None, 20, 100)           11216800  \n",
      "                                                                 \n",
      " bidirectional (Bidirectiona  (None, 20, 256)          234496    \n",
      " l)                                                              \n",
      "                                                                 \n",
      " dropout (Dropout)           (None, 20, 256)           0         \n",
      "                                                                 \n",
      " bidirectional_1 (Bidirectio  (None, 128)              164352    \n",
      " nal)                                                            \n",
      "                                                                 \n",
      " dropout_1 (Dropout)         (None, 128)               0         \n",
      "                                                                 \n",
      " dense (Dense)               (None, 32)                4128      \n",
      "                                                                 \n",
      " dense_1 (Dense)             (None, 1)                 33        \n",
      "                                                                 \n",
      "=================================================================\n",
      "Total params: 11,619,809\n",
      "Trainable params: 403,009\n",
      "Non-trainable params: 11,216,800\n",
      "_________________________________________________________________\n"
     ]
    }
   ],
   "source": [
    "from tensorflow.keras.models import Sequential\n",
    "from tensorflow.keras.layers import Embedding, Bidirectional, LSTM, Dropout, Dense\n",
    "\n",
    "# Create a model\n",
    "model_lstm = Sequential()\n",
    "model_lstm.add(embedding_layer)\n",
    "model_lstm.add(Bidirectional(LSTM(128, return_sequences=True)))\n",
    "model_lstm.add(Dropout(0.5))\n",
    "model_lstm.add(Bidirectional(LSTM(64)))\n",
    "model_lstm.add(Dropout(0.5))\n",
    "model_lstm.add(Dense(32, activation='relu'))\n",
    "model_lstm.add(Dense(1, activation='sigmoid'))\n",
    "\n",
    "# Compile the model\n",
    "model_lstm.compile(optimizer='adam', loss='binary_crossentropy', metrics=['accuracy'])\n",
    "\n",
    "# Display the model summary\n",
    "model_lstm.summary()"
   ]
  },
  {
   "cell_type": "code",
   "execution_count": 36,
   "id": "c09b352e-b8ef-404e-9de2-2b6aa4b640f8",
   "metadata": {},
   "outputs": [],
   "source": [
    "# Define early stopping\n",
    "from tensorflow.keras.callbacks import EarlyStopping\n",
    "early_stopping = EarlyStopping(monitor=\"val_loss\", patience=5)"
   ]
  },
  {
   "cell_type": "code",
   "execution_count": 37,
   "id": "5869eb0d-5c72-4e65-b241-9458cb02f7c1",
   "metadata": {},
   "outputs": [
    {
     "name": "stdout",
     "output_type": "stream",
     "text": [
      "Epoch 1/10\n",
      "157/157 [==============================] - 22s 104ms/step - loss: 0.5807 - accuracy: 0.6905 - val_loss: 0.5265 - val_accuracy: 0.7408\n",
      "Epoch 2/10\n",
      "157/157 [==============================] - 15s 96ms/step - loss: 0.5238 - accuracy: 0.7396 - val_loss: 0.5031 - val_accuracy: 0.7596\n",
      "Epoch 3/10\n",
      "157/157 [==============================] - 15s 98ms/step - loss: 0.4910 - accuracy: 0.7610 - val_loss: 0.4847 - val_accuracy: 0.7688\n",
      "Epoch 4/10\n",
      "157/157 [==============================] - 15s 94ms/step - loss: 0.4632 - accuracy: 0.7774 - val_loss: 0.4785 - val_accuracy: 0.7676\n",
      "Epoch 5/10\n",
      "157/157 [==============================] - 15s 96ms/step - loss: 0.4346 - accuracy: 0.7976 - val_loss: 0.4806 - val_accuracy: 0.7666\n",
      "Epoch 6/10\n",
      "157/157 [==============================] - 15s 96ms/step - loss: 0.4085 - accuracy: 0.8110 - val_loss: 0.4937 - val_accuracy: 0.7660\n",
      "Epoch 7/10\n",
      "157/157 [==============================] - 15s 96ms/step - loss: 0.3865 - accuracy: 0.8252 - val_loss: 0.4985 - val_accuracy: 0.7662\n",
      "Epoch 8/10\n",
      "157/157 [==============================] - 15s 96ms/step - loss: 0.3588 - accuracy: 0.8415 - val_loss: 0.5168 - val_accuracy: 0.7668\n",
      "Epoch 9/10\n",
      "157/157 [==============================] - 15s 96ms/step - loss: 0.3345 - accuracy: 0.8532 - val_loss: 0.5370 - val_accuracy: 0.7616\n"
     ]
    },
    {
     "data": {
      "text/plain": [
       "<keras.callbacks.History at 0x7f72cc5b4c40>"
      ]
     },
     "execution_count": 37,
     "metadata": {},
     "output_type": "execute_result"
    }
   ],
   "source": [
    "# Train the model\n",
    "model_lstm.fit(train_dataset, epochs=10, validation_data=test_dataset,callbacks=[early_stopping])"
   ]
  },
  {
   "cell_type": "code",
   "execution_count": 38,
   "id": "1cd24ac6-89ab-4834-8bf6-29f796295292",
   "metadata": {},
   "outputs": [
    {
     "name": "stdout",
     "output_type": "stream",
     "text": [
      "157/157 [==============================] - 4s 16ms/step - loss: 0.5370 - accuracy: 0.7616\n",
      "Final accuracy for LSTM:  76.16000175476074\n"
     ]
    }
   ],
   "source": [
    "# Display the accuracy score\n",
    "_, lstm_accuracy = model_lstm.evaluate(X_test, y_test)\n",
    "print(\"Final accuracy for LSTM: \", lstm_accuracy*100)"
   ]
  },
  {
   "cell_type": "markdown",
   "id": "40422efb-a145-48d6-b106-4d3f111cd832",
   "metadata": {},
   "source": [
    "Model using GRU"
   ]
  },
  {
   "cell_type": "code",
   "execution_count": 39,
   "id": "d2179e4d-907a-4eb5-967c-cf9f43c67358",
   "metadata": {},
   "outputs": [],
   "source": [
    "from tensorflow.keras.layers import GRU"
   ]
  },
  {
   "cell_type": "code",
   "execution_count": 40,
   "id": "700a6c28-cf8f-42ae-87fc-537801be55c9",
   "metadata": {},
   "outputs": [
    {
     "name": "stdout",
     "output_type": "stream",
     "text": [
      "Model: \"sequential_1\"\n",
      "_________________________________________________________________\n",
      " Layer (type)                Output Shape              Param #   \n",
      "=================================================================\n",
      " embedding (Embedding)       (None, 20, 100)           11216800  \n",
      "                                                                 \n",
      " bidirectional_2 (Bidirectio  (None, 20, 256)          176640    \n",
      " nal)                                                            \n",
      "                                                                 \n",
      " bidirectional_3 (Bidirectio  (None, 128)              123648    \n",
      " nal)                                                            \n",
      "                                                                 \n",
      " dense_2 (Dense)             (None, 32)                4128      \n",
      "                                                                 \n",
      " dense_3 (Dense)             (None, 1)                 33        \n",
      "                                                                 \n",
      "=================================================================\n",
      "Total params: 11,521,249\n",
      "Trainable params: 304,449\n",
      "Non-trainable params: 11,216,800\n",
      "_________________________________________________________________\n"
     ]
    }
   ],
   "source": [
    "# Create a GRU model\n",
    "model_gru = Sequential()\n",
    "model_gru.add(embedding_layer)\n",
    "model_gru.add(Bidirectional(GRU(128, return_sequences=True, dropout=0.5, recurrent_dropout=0.5)))\n",
    "model_gru.add(Bidirectional(GRU(64, dropout=0.5, recurrent_dropout=0.5)))\n",
    "model_gru.add(Dense(32, activation='relu'))\n",
    "model_gru.add(Dense(1, activation='sigmoid'))\n",
    "\n",
    "# Compile the model\n",
    "model_gru.compile(optimizer='adam', loss='binary_crossentropy', metrics=['accuracy'])\n",
    "\n",
    "# Display the model summary\n",
    "model_gru.summary()"
   ]
  },
  {
   "cell_type": "code",
   "execution_count": 41,
   "id": "e50cb4a7-b887-4b1c-b805-263b5481acea",
   "metadata": {},
   "outputs": [],
   "source": [
    "early_stopping = EarlyStopping(monitor=\"val_loss\", patience=5)"
   ]
  },
  {
   "cell_type": "code",
   "execution_count": 42,
   "id": "b67cc101-9eaa-49ed-9c36-5e68bb8781f0",
   "metadata": {},
   "outputs": [
    {
     "name": "stdout",
     "output_type": "stream",
     "text": [
      "Epoch 1/10\n",
      "157/157 [==============================] - 28s 123ms/step - loss: 0.6120 - accuracy: 0.6591 - val_loss: 0.5424 - val_accuracy: 0.7244\n",
      "Epoch 2/10\n",
      "157/157 [==============================] - 18s 114ms/step - loss: 0.5637 - accuracy: 0.7063 - val_loss: 0.5217 - val_accuracy: 0.7380\n",
      "Epoch 3/10\n",
      "157/157 [==============================] - 18s 113ms/step - loss: 0.5475 - accuracy: 0.7171 - val_loss: 0.5073 - val_accuracy: 0.7452\n",
      "Epoch 4/10\n",
      "157/157 [==============================] - 18s 116ms/step - loss: 0.5320 - accuracy: 0.7285 - val_loss: 0.4977 - val_accuracy: 0.7584\n",
      "Epoch 5/10\n",
      "157/157 [==============================] - 17s 108ms/step - loss: 0.5183 - accuracy: 0.7378 - val_loss: 0.4915 - val_accuracy: 0.7530\n",
      "Epoch 6/10\n",
      "157/157 [==============================] - 19s 120ms/step - loss: 0.5061 - accuracy: 0.7440 - val_loss: 0.4823 - val_accuracy: 0.7638\n",
      "Epoch 7/10\n",
      "157/157 [==============================] - 18s 114ms/step - loss: 0.4942 - accuracy: 0.7552 - val_loss: 0.4808 - val_accuracy: 0.7652\n",
      "Epoch 8/10\n",
      "157/157 [==============================] - 18s 117ms/step - loss: 0.4895 - accuracy: 0.7573 - val_loss: 0.4683 - val_accuracy: 0.7736\n",
      "Epoch 9/10\n",
      "157/157 [==============================] - 19s 119ms/step - loss: 0.4765 - accuracy: 0.7646 - val_loss: 0.4663 - val_accuracy: 0.7756\n",
      "Epoch 10/10\n",
      "157/157 [==============================] - 19s 119ms/step - loss: 0.4705 - accuracy: 0.7668 - val_loss: 0.4644 - val_accuracy: 0.7800\n"
     ]
    },
    {
     "data": {
      "text/plain": [
       "<keras.callbacks.History at 0x7f72d06896c0>"
      ]
     },
     "execution_count": 42,
     "metadata": {},
     "output_type": "execute_result"
    }
   ],
   "source": [
    "model_gru.fit(train_dataset, epochs=10, validation_data=test_dataset,callbacks=[early_stopping])"
   ]
  },
  {
   "cell_type": "code",
   "execution_count": 43,
   "id": "31d7d228-f125-4449-b4cf-1c6c3db5842e",
   "metadata": {},
   "outputs": [
    {
     "name": "stdout",
     "output_type": "stream",
     "text": [
      "157/157 [==============================] - 4s 15ms/step - loss: 0.4644 - accuracy: 0.7800\n",
      "Final accuracy for GRU:  77.99999713897705\n"
     ]
    }
   ],
   "source": [
    "_, gru_accuracy = model_gru.evaluate(X_test, y_test)\n",
    "print(\"Final accuracy for GRU: \", gru_accuracy*100)"
   ]
  },
  {
   "cell_type": "markdown",
   "id": "bca52d37-975e-427c-8a45-d2bd5791f233",
   "metadata": {},
   "source": [
    "Evaluate the model"
   ]
  },
  {
   "cell_type": "code",
   "execution_count": 44,
   "id": "96daf0d0-550d-4111-b435-86a8e3c68e13",
   "metadata": {},
   "outputs": [],
   "source": [
    "def predict_sentiment(sentence,model):\n",
    "    sentence = preprocess(sentence)\n",
    "    sentence = tokenizer.texts_to_sequences([sentence])\n",
    "    sentence = pad_sequences(sentence, maxlen=max_sequence_length, padding='post')\n",
    "    prob = model.predict(sentence)[0][0]\n",
    "    threshold = 0.5\n",
    "    sentiment = 'Good' if prob >= threshold else 'Bad'\n",
    "\n",
    "    print(f'Probability: {prob:.3f}')\n",
    "    print(f'Sentiment: {sentiment}')"
   ]
  },
  {
   "cell_type": "code",
   "execution_count": 49,
   "id": "fcec0f9f-5480-4e3a-a5ba-092c4c9f3867",
   "metadata": {},
   "outputs": [
    {
     "name": "stdout",
     "output_type": "stream",
     "text": [
      "1/1 [==============================] - 0s 39ms/step\n",
      "Probability: 0.334\n",
      "Sentiment: Bad\n"
     ]
    }
   ],
   "source": [
    "review = \"The movie was great.\"\n",
    "model = model_lstm\n",
    "predict_sentiment(review,model)"
   ]
  },
  {
   "cell_type": "code",
   "execution_count": 46,
   "id": "95831d3a-ed5f-49e0-948d-8aea4aad7a1e",
   "metadata": {},
   "outputs": [
    {
     "name": "stdout",
     "output_type": "stream",
     "text": [
      "1/1 [==============================] - 1s 827ms/step\n",
      "Probability: 0.477\n",
      "Sentiment: Bad\n"
     ]
    }
   ],
   "source": [
    "review = \"I did not like the movie very much.\"\n",
    "model = model_gru\n",
    "predict_sentiment(review,model)"
   ]
  },
  {
   "cell_type": "markdown",
   "id": "5204f774-8ba6-4ec5-b754-3b4be53b1b5b",
   "metadata": {},
   "source": [
    "Display the accuracy of various models"
   ]
  },
  {
   "cell_type": "code",
   "execution_count": 47,
   "id": "506fbe3d-bae4-4961-8b31-ccfd80e78277",
   "metadata": {},
   "outputs": [
    {
     "data": {
      "text/html": [
       "<div>\n",
       "<style scoped>\n",
       "    .dataframe tbody tr th:only-of-type {\n",
       "        vertical-align: middle;\n",
       "    }\n",
       "\n",
       "    .dataframe tbody tr th {\n",
       "        vertical-align: top;\n",
       "    }\n",
       "\n",
       "    .dataframe thead th {\n",
       "        text-align: right;\n",
       "    }\n",
       "</style>\n",
       "<table border=\"1\" class=\"dataframe\">\n",
       "  <thead>\n",
       "    <tr style=\"text-align: right;\">\n",
       "      <th></th>\n",
       "      <th>model_name</th>\n",
       "      <th>accuracy</th>\n",
       "    </tr>\n",
       "  </thead>\n",
       "  <tbody>\n",
       "    <tr>\n",
       "      <th>0</th>\n",
       "      <td>Random Forest</td>\n",
       "      <td>85.840000</td>\n",
       "    </tr>\n",
       "    <tr>\n",
       "      <th>1</th>\n",
       "      <td>LSTM</td>\n",
       "      <td>76.160002</td>\n",
       "    </tr>\n",
       "    <tr>\n",
       "      <th>2</th>\n",
       "      <td>GRU</td>\n",
       "      <td>77.999997</td>\n",
       "    </tr>\n",
       "  </tbody>\n",
       "</table>\n",
       "</div>"
      ],
      "text/plain": [
       "      model_name   accuracy\n",
       "0  Random Forest  85.840000\n",
       "1           LSTM  76.160002\n",
       "2            GRU  77.999997"
      ]
     },
     "execution_count": 47,
     "metadata": {},
     "output_type": "execute_result"
    }
   ],
   "source": [
    "accuracy_data = {\n",
    "    'model_name': ['Random Forest', 'LSTM', 'GRU'],\n",
    "    'accuracy': [rf_accuracy*100, lstm_accuracy*100, gru_accuracy*100]\n",
    "}\n",
    "accuracy = pd.DataFrame(accuracy_data)\n",
    "accuracy"
   ]
  },
  {
   "cell_type": "code",
   "execution_count": null,
   "id": "e707fce2-efaa-4978-b731-f250e85aecdf",
   "metadata": {},
   "outputs": [],
   "source": []
  }
 ],
 "metadata": {
  "kernelspec": {
   "display_name": "Python 3 (ipykernel)",
   "language": "python",
   "name": "python3"
  },
  "language_info": {
   "codemirror_mode": {
    "name": "ipython",
    "version": 3
   },
   "file_extension": ".py",
   "mimetype": "text/x-python",
   "name": "python",
   "nbconvert_exporter": "python",
   "pygments_lexer": "ipython3",
   "version": "3.10.13"
  }
 },
 "nbformat": 4,
 "nbformat_minor": 5
}
